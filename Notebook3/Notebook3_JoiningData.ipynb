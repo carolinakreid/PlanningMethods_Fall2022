{
 "cells": [
  {
   "cell_type": "markdown",
   "metadata": {},
   "source": [
    "# Notebook 3_Joining Data: Prepping and Joining Data\n",
    "\n",
    "If you are working with the CHIS data, you aren't going to have to do any joining or merging of data.  But often, we want to bring different datasets together, which means we need to know how to merge datasets based on a common ID or \"key\" variable.\n",
    "\n",
    "In today's lab, we're going to focus on\n",
    "\n",
    "> Prepping our data for joins\n",
    "\n",
    "> Joining by FIPS codes\n",
    "\n",
    "As with everything in Python, there are lots of different ways to do the same thing, so we're providing some basic code so you have what you need for Assignment 4.  But you may find that when you work with your own data, you'll need to explore the web for other code.\n",
    "\n",
    "Here are the steps we are taking in this lab:\n",
    "1. Importing two datasets (Eviction Lab and ACS)\n",
    "2. Cleaning the datasets (renaming columns, selecting/creating columns we want, etc.)\n",
    "3. Finding the join column in both datasets and matching the formatting\n",
    "4. Conducting join"
   ]
  },
  {
   "cell_type": "markdown",
   "metadata": {},
   "source": [
    "## 1.0 Setup and Reading in our libraries\n",
    "\n",
    "As a reminder, setup should *always* be the first step in your notebook, and you need to load these cells first whenever you open the file before running any other cells."
   ]
  },
  {
   "cell_type": "code",
   "execution_count": null,
   "metadata": {},
   "outputs": [],
   "source": [
    "# First, We're going to call in our libraries\n",
    "\n",
    "import numpy as np\n",
    "import pandas as pd\n",
    "import math\n",
    "from scipy import stats\n",
    "import seaborn as sns\n",
    "import matplotlib as plt\n",
    "from datascience import *\n",
    "\n",
    "pd.options.display.float_format = '{:.2f}'.format"
   ]
  },
  {
   "cell_type": "code",
   "execution_count": null,
   "metadata": {},
   "outputs": [],
   "source": [
    "#Show our plots in the Jupyter notebook\n",
    "%matplotlib inline"
   ]
  },
  {
   "cell_type": "code",
   "execution_count": null,
   "metadata": {},
   "outputs": [],
   "source": [
    "#When we start working with nan (missing) values, we can get RuntimeWarning errors - we're going to ignore them here\n",
    "import warnings\n",
    "warnings.filterwarnings(\"ignore\", category=RuntimeWarning) \n",
    "pd.options.mode.chained_assignment = None  # default='warn'"
   ]
  },
  {
   "cell_type": "markdown",
   "metadata": {},
   "source": [
    "## 2.0 Importing and Cleaning Eviction Lab data\n",
    "First, we're going to read in our Eviction Lab data. It is publicly available here: https://data-downloads.evictionlab.org/#data-for-analysis/"
   ]
  },
  {
   "cell_type": "code",
   "execution_count": null,
   "metadata": {},
   "outputs": [],
   "source": [
    "# Here is my code for reading in the complete evictions data and filtering it\n",
    "# If you are using an area outside Alameda County for your assignment, \n",
    "# you'll want to run the lines below and alter the file location and county filter.\n",
    "\n",
    "# data =  pd.read_csv('C:/Users/katea/Downloads/tract_proprietary_valid_2000_2018.csv')\n",
    "# ac_data = data[data['county']=='Alameda County']\n",
    "# ac_data.to_csv('C:/Users/katea/Downloads/AC_tract_proprietary_valid_2000_2018.csv', index = False)\n",
    "\n",
    "#today we're just going to work with the extract\n",
    "evictions00_18 = pd.read_csv('AC_tract_proprietary_valid_2000_2018.csv')\n",
    "evictions00_18"
   ]
  },
  {
   "cell_type": "markdown",
   "metadata": {},
   "source": [
    "### Eviction Lab Codebook\n",
    "You can also find this information in the Excel sheet in DataHub, which I downloaded from the same link above.\n",
    "\n",
    "|variable_name  |variable_type|description                                                               |\n",
    "|---------------|-------------|--------------------------------------------------------------------------|\n",
    "|fips           |numeric      |tract fips                                                                |\n",
    "|cofips         |numeric      |county fips                                                               |\n",
    "|tract          |string       |tract name                                                                |\n",
    "|county         |string       |county name                                                               |\n",
    "|state          |string       |state name                                                                |\n",
    "|year           |numeric      |year                                                                      |\n",
    "|type           |string       |OBSERVED                                                                  |\n",
    "|filings        |numeric      |number of filings observed in proprietary data                            |\n",
    "|filing_rate    |numeric      |number of filings per 100 renting households                              |\n",
    "|threatened     |numeric      |number of households threatened with eviction observed in proprietary data|\n",
    "|threatened_rate|numeric      |number of households threatened per 100 renting households                |\n",
    "|judgements     |numeric      |number of judgements observed in proprietary data                         |\n",
    "|judgement_rate |numeric      |number of judgements per 100 renting households                           |\n"
   ]
  },
  {
   "cell_type": "markdown",
   "metadata": {},
   "source": [
    "### 2.1 Filtering for one year (2016)"
   ]
  },
  {
   "cell_type": "markdown",
   "metadata": {},
   "source": [
    "Our data has evictions from 2000 to 2018, so let's pick a year to use.\n",
    "\n",
    "If you did your research on the evictions dataset, you might see that California lacks a lot of data after 2016 since the state enacted an evictions masking law in 2017 making it harder to get access to evictions data (good for tenants but bad for researchers! see more here: https://www.nolo.com/legal-update/california-tenants-protected-win-eviction-lawsuits.html).\n",
    "\n",
    "See below that there is no data for 2017 and 2018 in this Alameda County subset of the evictions data."
   ]
  },
  {
   "cell_type": "code",
   "execution_count": null,
   "metadata": {
    "scrolled": true
   },
   "outputs": [],
   "source": [
    "evictions00_18['year'].value_counts()"
   ]
  },
  {
   "cell_type": "markdown",
   "metadata": {},
   "source": [
    "Let's subset for just 2016 data and make a new dataframe."
   ]
  },
  {
   "cell_type": "code",
   "execution_count": null,
   "metadata": {},
   "outputs": [],
   "source": [
    "# note: from above we see the year is an integer64 type, so don't put quotes around 2016!\n",
    "evictions16 = evictions00_18[evictions00_18['year'] == 2016]\n",
    "evictions16"
   ]
  },
  {
   "cell_type": "code",
   "execution_count": null,
   "metadata": {},
   "outputs": [],
   "source": [
    "# optional: if you're worried about an object (like a dataframe) taking up too much memory and you're done with it, you can delete it\n",
    "# del evictions00_18"
   ]
  },
  {
   "cell_type": "markdown",
   "metadata": {},
   "source": [
    "## 3.0 Importing and Cleaning ACS data"
   ]
  },
  {
   "cell_type": "code",
   "execution_count": null,
   "metadata": {
    "scrolled": true
   },
   "outputs": [],
   "source": [
    "acs16 = pd.read_csv(\"ACSDT5Y2016.B25070-Data.csv\")\n",
    "acs16"
   ]
  },
  {
   "cell_type": "markdown",
   "metadata": {},
   "source": [
    "### 3.1 Dropping the first row\n",
    "Remember that the censusdata has two headers, as you can see above. \n",
    "\n",
    "To delete the second row, we can either delete it after we load it in, or skip the second header row when we read it in.\n",
    "\n",
    "This is a good opportunity to practice commenting out code (putting hashtags in front of each line so it doesn't run) using Ctrl/Cmd + \"/\". Pick an option and comment out the code in the other option."
   ]
  },
  {
   "cell_type": "code",
   "execution_count": null,
   "metadata": {
    "scrolled": true
   },
   "outputs": [],
   "source": [
    "# OPTION 1 - delete a single row by index value 0\n",
    "acs16 = acs16.drop(\n",
    "    labels=0, # index number(s) of row(s) to drop\n",
    "    axis=0 # 0 for rows (1 is for dropping columns)\n",
    ")"
   ]
  },
  {
   "cell_type": "code",
   "execution_count": null,
   "metadata": {},
   "outputs": [],
   "source": [
    "# OPTION 2 - another way to do that would have been to tell python to skip the second header row \n",
    "# (remember, Python numbering starts at 0) when you read in the data\n",
    "acs16 = pd.read_csv(\"ACSDT5Y2016.B25070-Data.csv\", skiprows = [1])\n",
    "acs16"
   ]
  },
  {
   "cell_type": "markdown",
   "metadata": {},
   "source": [
    "### 3.1 Selecting and Renaming Columns"
   ]
  },
  {
   "cell_type": "markdown",
   "metadata": {},
   "source": [
    "We have all those MOE and annotation columns we need to get rid of. Let's select for the columns we want and assign to the same dataframe. In this case we want the GEO_ID column, the full name, and all the estimates."
   ]
  },
  {
   "cell_type": "code",
   "execution_count": null,
   "metadata": {
    "scrolled": true
   },
   "outputs": [],
   "source": [
    "# This way is more intuitive / what we've done before:\n",
    "# (calling each column individually)\n",
    "acs16 = acs16[['GEO_ID', 'NAME', 'B25070_001E', 'B25070_002E', 'B25070_003E',\n",
    "       'B25070_004E', 'B25070_005E', 'B25070_006E', 'B25070_007E',\n",
    "       'B25070_008E', 'B25070_009E', 'B25070_010E', 'B25070_011E']]\n",
    "\n",
    "# More complicated ways of doing the same thing:\n",
    "# (selects if a column either ends with \"E\" or \"GEO_ID\")\n",
    "\n",
    "#acs16 = acs16.loc[:,acs16.columns.str.endswith(('E', 'GEO_ID'))] # using endswith()\n",
    "#acs16 = acs16.filter(regex='E$|GEO_ID$') # using regex"
   ]
  },
  {
   "cell_type": "markdown",
   "metadata": {},
   "source": [
    "Let's rename the columns with more intuitive names."
   ]
  },
  {
   "cell_type": "code",
   "execution_count": null,
   "metadata": {
    "scrolled": true
   },
   "outputs": [],
   "source": [
    "acs16 = acs16.rename(columns = {'B25070_001E':'total', \n",
    "                        'B25070_002E':'rb_less10',\n",
    "                        'B25070_003E':'rb_10_15',\n",
    "                        'B25070_004E':'rb_15_20',\n",
    "                        'B25070_005E':'rb_20_25',\n",
    "                        'B25070_006E':'rb_25_30',\n",
    "                        'B25070_007E':'rb_30_35',\n",
    "                        'B25070_008E':'rb_35_40',\n",
    "                        'B25070_009E':'rb_40_50',\n",
    "                        'B25070_010E':'rb_50plus',\n",
    "                        'B25070_011E':'na'})"
   ]
  },
  {
   "cell_type": "code",
   "execution_count": null,
   "metadata": {},
   "outputs": [],
   "source": [
    "acs16"
   ]
  },
  {
   "cell_type": "markdown",
   "metadata": {},
   "source": [
    "### 3.3 Changing column types\n",
    "Just like in QGIS when we had to do refactoring, the data types may have been read in wrong as strings when they should've been numeric. Let's take a look at the data."
   ]
  },
  {
   "cell_type": "code",
   "execution_count": null,
   "metadata": {
    "scrolled": true
   },
   "outputs": [],
   "source": [
    "# Checking column types\n",
    "acs16.info()"
   ]
  },
  {
   "cell_type": "markdown",
   "metadata": {},
   "source": [
    "If you chose Option 2 beforehand and read in the data skipping the second header row, your variables should all have the correct types, but if you chose Option 1 and deleted the second header row after you read it in, your data types might be wrong.\n",
    "\n",
    "If you need to, run this cell below to change the data types of your columns (similar to the refactoring tool in QGIS)."
   ]
  },
  {
   "cell_type": "code",
   "execution_count": null,
   "metadata": {},
   "outputs": [],
   "source": [
    "# Here we are using a dictionary, similar to when we recoded our values in the lecture notebook\n",
    "acs16 = acs16.astype({\n",
    "    'total' : int,\n",
    "    'rb_less10': int,\n",
    "    'rb_10_15' : int,\n",
    "    'rb_15_20' : int,\n",
    "    'rb_20_25' : int,\n",
    "    'rb_25_30' : int,\n",
    "    'rb_30_35' : int,\n",
    "    'rb_35_40' : int, \n",
    "    'rb_40_50' : int,\n",
    "    'rb_50plus' : int,\n",
    "    'na' : int\n",
    "})"
   ]
  },
  {
   "cell_type": "markdown",
   "metadata": {},
   "source": [
    "### 3.4 Creating aggregate variables for rent burden\n",
    "Since we are more interested in the common indicator of rent burden (defining it as >30% rent burden), we need make the column by summing the rest, similar to what we did in Excel."
   ]
  },
  {
   "cell_type": "code",
   "execution_count": null,
   "metadata": {},
   "outputs": [],
   "source": [
    "acs16"
   ]
  },
  {
   "cell_type": "code",
   "execution_count": null,
   "metadata": {},
   "outputs": [],
   "source": [
    "# More intuitive way\n",
    "acs16['rb30plus'] = acs16['rb_30_35'] + acs16['rb_35_40'] + acs16['rb_40_50'] + acs16['rb_50plus']\n",
    "\n",
    "# Using sum() function\n",
    "#cols = ['rb_30_35','rb_35_40', 'rb_40_50','rb_50plus']\n",
    "#acs16['rb30plus'] = acs16[cols].sum(axis=1)\n",
    "\n",
    "acs16.head()"
   ]
  },
  {
   "cell_type": "markdown",
   "metadata": {},
   "source": [
    "##  4.0  Joining data!\n",
    "\n",
    "### 4.1 Matching join columns\n",
    "Of course, our join will not work unless our columns are formatted the same way in terms of column type and what data is included. \n",
    "\n",
    "We want to match by FIPS code, but the ACS GEO_ID column looks different from the Eviction Lab FIPS one. Let's create a FIPS column for the ACS dataset with the same number of characters."
   ]
  },
  {
   "cell_type": "code",
   "execution_count": null,
   "metadata": {},
   "outputs": [],
   "source": [
    "# printing first few rows of each join column to see that they look different\n",
    "print(acs16[['GEO_ID']].head())\n",
    "print(evictions16[['fips']].head())"
   ]
  },
  {
   "cell_type": "code",
   "execution_count": null,
   "metadata": {},
   "outputs": [],
   "source": [
    "# fixing up a fips column with the right number of characters using string subsetting\n",
    "# note: ending the number 10 with a colon means we go from the 10th character to the END of the string\n",
    "acs16['fips'] = acs16['GEO_ID'].str[10:]\n",
    "acs16.head()"
   ]
  },
  {
   "cell_type": "markdown",
   "metadata": {},
   "source": [
    "Now let's check if the join columns are the same type."
   ]
  },
  {
   "cell_type": "code",
   "execution_count": null,
   "metadata": {},
   "outputs": [],
   "source": [
    "print(evictions16.dtypes['fips'])\n",
    "print(acs16.dtypes['fips'])"
   ]
  },
  {
   "cell_type": "markdown",
   "metadata": {},
   "source": [
    "Oh no! They are different! Let's change the Eviction Lab fips column from an integer to a string / object type."
   ]
  },
  {
   "cell_type": "code",
   "execution_count": null,
   "metadata": {
    "scrolled": false
   },
   "outputs": [],
   "source": [
    "evictions16['fips'] = evictions16['fips'].astype(str)"
   ]
  },
  {
   "cell_type": "code",
   "execution_count": null,
   "metadata": {},
   "outputs": [],
   "source": [
    "# Check if it worked - this should be True\n",
    "evictions16.dtypes['fips']==acs16.dtypes['fips']"
   ]
  },
  {
   "attachments": {
    "image.png": {
     "image/png": "[encoded data removed]"
    }
   },
   "cell_type": "markdown",
   "metadata": {},
   "source": [
    "### 4.2 Left join\n",
    "Do you remember how joins work? We need to specify the join column via the \"on\" parameter and what kind of join we are doing via the \"how\" parameter. We already fixed up our join columns, so let's talk about what kind of join to use. This is important when not every row matches on each dataset, so you must strategically decide what rows (if any) get dropped from the result.\n",
    "\n",
    "Here's a handy diagram of the different kinds of joins you can do.\n",
    "![image.png](attachment:image.png)\n",
    "\n",
    "Note that in the code, the \"right\" dataset is the one in the parentheses, and the \"left\" dataset is the leftmost one.\n",
    "\n",
    "**Left Join:** All left dataset rows kept, matching with rows from right dataset\n",
    "\n",
    "**Right Join:** All right dataset rows kept, matching with rows from left dataset\n",
    "\n",
    "**Inner Join:** Only rows with matches in both datasets are kept\n",
    "\n",
    "**Outer Join:** All rows are kept, regardless if there is a match\n",
    "\n",
    "Since our ACS dataset has data for each tract in Alameda county and there isn't necessarily evictions data for all the Alameda county tracts, we should join the evictions data to the ACS data rather than the other way around."
   ]
  },
  {
   "cell_type": "code",
   "execution_count": null,
   "metadata": {},
   "outputs": [],
   "source": [
    "# Result shows the eviction dataset has one less row than the ACS dataset...\n",
    "print(acs16.shape)\n",
    "print(evictions16.shape)"
   ]
  },
  {
   "cell_type": "code",
   "execution_count": null,
   "metadata": {},
   "outputs": [],
   "source": [
    "# ... meaning that if we do a left join, one row of ACS data won't have a match in the eviction data.\n",
    "joined = acs16.merge(evictions16, on='fips', how='left', indicator=True) # this last parameter is helpful!\n",
    "joined"
   ]
  },
  {
   "cell_type": "markdown",
   "metadata": {},
   "source": [
    "Using the \"_merge\" column that we added from the join, we can filter for rows that did not have a match."
   ]
  },
  {
   "cell_type": "code",
   "execution_count": null,
   "metadata": {},
   "outputs": [],
   "source": [
    "joined[joined['_merge']=='left_only']"
   ]
  },
  {
   "cell_type": "markdown",
   "metadata": {},
   "source": [
    "## 5.0  That's it for now!\n",
    "\n",
    "By lab next week Thursday, you should have selected your dataset, and 5-6 variables you plan to explore, including 1 outcome variable. Explore, clean and reclassify each variable, and come with questions!"
   ]
  }
 ],
 "metadata": {
  "kernelspec": {
   "display_name": "Python 3 (ipykernel)",
   "language": "python",
   "name": "python3"
  },
  "language_info": {
   "codemirror_mode": {
    "name": "ipython",
    "version": 3
   },
   "file_extension": ".py",
   "mimetype": "text/x-python",
   "name": "python",
   "nbconvert_exporter": "python",
   "pygments_lexer": "ipython3",
   "version": "3.9.12"
  }
 },
 "nbformat": 4,
 "nbformat_minor": 4
}
