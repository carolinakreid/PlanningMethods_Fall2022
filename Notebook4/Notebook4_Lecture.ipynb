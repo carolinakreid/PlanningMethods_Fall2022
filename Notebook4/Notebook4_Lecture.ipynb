{
 "cells": [
  {
   "cell_type": "markdown",
   "metadata": {},
   "source": [
    "# Notebook 4: Exploring Bivariate Relationships \n",
    "\n",
    "In previous notebooks, we learned how to explore our variables, recode categorical variables into dummies, and clean and/or classify our numeric variables.\n",
    "\n",
    "In today's lab, we're going to focus on\n",
    "\n",
    "> Exploring relationships between two variables"
   ]
  },
  {
   "cell_type": "markdown",
   "metadata": {},
   "source": [
    "## 1.0 Reading in our libraries, our dataset, and renaming our variables\n",
    "\n",
    "Just the intro material!  Remember, you need to run all the cells in order - libraries, read data, and rename data, otherwise Python will give you an error message!  "
   ]
  },
  {
   "cell_type": "code",
   "execution_count": null,
   "metadata": {},
   "outputs": [],
   "source": [
    "# First, We're going to call in our libraries\n",
    "\n",
    "import numpy as np\n",
    "import pandas as pd\n",
    "import math\n",
    "from scipy import stats\n",
    "import seaborn as sns\n",
    "import matplotlib as plt\n",
    "import matplotlib.pyplot as plt\n",
    "import scipy \n",
    "from datascience import *\n",
    "\n",
    "pd.options.display.float_format = '{:.2f}'.format"
   ]
  },
  {
   "cell_type": "code",
   "execution_count": null,
   "metadata": {},
   "outputs": [],
   "source": [
    "#Show our plots in the Jupyter notebook\n",
    "%matplotlib inline"
   ]
  },
  {
   "cell_type": "code",
   "execution_count": null,
   "metadata": {},
   "outputs": [],
   "source": [
    "#When we start working with nan (missing) values, we can get warnings - we're going to ignore them here\n",
    "import warnings\n",
    "warnings.filterwarnings(\"ignore\") "
   ]
  },
  {
   "cell_type": "code",
   "execution_count": null,
   "metadata": {},
   "outputs": [],
   "source": [
    "#Now we're going to read in our data\n",
    "\n",
    "# Here is my code for reading in the complete CHIS data 2\n",
    "\n",
    "# col_list = ['AC47', 'AC42', 'SRSEX', 'AC46', 'POVLL', 'AE_VEGI', 'OMBSRR_P1','POVGWD_P1','RAKEDW0']\n",
    "#chis_df=pd.read_csv(\"CHIS_2018_Adult_All.csv\", usecols=col_list)\n",
    "#chis_df\n",
    "\n",
    "#today we're going to work with the extract as we did last week\n",
    "\n",
    "chis_df = pd.read_csv('chis_extract_2022_weights.csv')\n",
    "chis_df"
   ]
  },
  {
   "cell_type": "code",
   "execution_count": null,
   "metadata": {},
   "outputs": [],
   "source": [
    "chis_df.rename(columns={\"AE_VEGI\":\"ate_veg\",\n",
    "                        \"SRSEX\": \"sex\",\n",
    "                        \"OMBSRR_P1\": \"race_ethnicity\",\n",
    "                        \"POVLL\" : \"pov_cat\",\n",
    "                       \"AK22_P1\" : \"hh_inc\",\n",
    "                       \"AM184\": \"housing_worry\",\n",
    "                       \"CV7_1\":\"covid_lostjob\"}, inplace=True)"
   ]
  },
  {
   "cell_type": "code",
   "execution_count": null,
   "metadata": {},
   "outputs": [],
   "source": [
    "chis_df=(chis_df[['ate_veg','sex', 'race_ethnicity', 'pov_cat', 'hh_inc', 'housing_worry', 'covid_lostjob']])"
   ]
  },
  {
   "cell_type": "code",
   "execution_count": null,
   "metadata": {},
   "outputs": [],
   "source": [
    "chis_df"
   ]
  },
  {
   "cell_type": "markdown",
   "metadata": {},
   "source": [
    "### Codebook\n",
    "\n",
    "### Codebook\n",
    "\n",
    "\n",
    "> AE_VEGI: Number of times respondent eats vegetables per week\n",
    "\n",
    "> SRSEX: Self-reported Sex (1= Male, 2=Female)\n",
    "\n",
    "> OMBSRR_P1: Race/ethnicity\n",
    "(1=Hispanic, 2= White NH, 3=Black NH, 4=AmIndian/Alaska Native NH, 5=Asian NH, 6=Other or two or more)\n",
    "\n",
    "> POVLL: poverty level\n",
    "(1 = 0-99% FPL, 2=100-199% FPL, 3=200-299% FPL, 4=300% FPL and above)\n",
    "\n",
    "> AK22_P1: Household Income\n",
    "\n",
    "> AM184: How Often Worry about Paying Rent/Mortgage\n",
    "(1=Very often, 2=Somewhat Often, 3=From Time to Time, 4=Almost Never)\n",
    "\n",
    "> CV7_1: Lost Job due to COVID (1=Yes, 2=No)"
   ]
  },
  {
   "cell_type": "markdown",
   "metadata": {},
   "source": [
    "##  2.0  Exploring Bivariate Relationships\n",
    "\n",
    "### 2.1 Hypothesis\n",
    "\n",
    "Let's start by reminding ourselves why we're doing all this data cleaning!  I am interested in understanding whether someone who lost their job due to COVID is more likely to be concerned about paying their rent, which I can use to argue for an extension of eviction moratoria or greater rent relief.\n",
    "\n",
    "**My hypothesis is that people who lost their job due to COVID are more likely to be concerned about paying their rent.**\n",
    "\n",
    ">  Y Variable: How Often Worry about Paying Rent/Mortgage  (AM184 - renamed housing_worry)\n",
    "    (1=Very often, 2=Somewhat Often, 3=From Time to Time, 4=Almost Never)\n",
    "\n",
    ">  X Variable: lost job due to COVID  (CV7_1  - renamed covid_lostjob)\n",
    "\n",
    ">  Alternate X Variable: Categorical poverty level (POVLL - renamed pov_cat)\n",
    "\n",
    ">  I'm also going to look at whether folks in poverty eat fewer vegetables, mostly to demonstrate code and concepts!\n",
    "\n",
    "        > Y Variable: Eat Vegetables (ae_veg - renamed ate_veg)\n",
    "    \n",
    "        > X Variable: Categorical poverty level (POVLL - renamed pov_cat)\n",
    "\n",
    "Below, I've included the code I used to clean each of the variables, including notes about what I did and why!\n",
    "\n",
    "**I'm also going to create a \"text\" race/ethnicity variable to explore if there might be differences by race/ethnicity.  This is mostly to show you another option for working with your data in Python!**\n"
   ]
  },
  {
   "cell_type": "markdown",
   "metadata": {},
   "source": [
    "### 2.2  Cleaning my variables"
   ]
  },
  {
   "cell_type": "markdown",
   "metadata": {},
   "source": [
    "#### 2.2a Clean my Y variable (numeric)"
   ]
  },
  {
   "cell_type": "code",
   "execution_count": null,
   "metadata": {},
   "outputs": [],
   "source": [
    "#Describe the distribution of my data\n",
    "chis_df['ate_veg'].describe()"
   ]
  },
  {
   "cell_type": "code",
   "execution_count": null,
   "metadata": {},
   "outputs": [],
   "source": [
    "#drop people who said they ate more than 10 veggies a day\n",
    "chis_df = chis_df[chis_df['ate_veg'] < 71] "
   ]
  },
  {
   "cell_type": "markdown",
   "metadata": {},
   "source": [
    "#### 2.2b Clean my Y variable (categorical)"
   ]
  },
  {
   "cell_type": "code",
   "execution_count": null,
   "metadata": {},
   "outputs": [],
   "source": [
    "#let's first look at the data\n",
    "pd.crosstab(chis_df['housing_worry'], columns='count')"
   ]
  },
  {
   "cell_type": "code",
   "execution_count": null,
   "metadata": {},
   "outputs": [],
   "source": [
    "# I decided I want to group together anyone that expresses concern, \n",
    "#so I'm going to assign a 1 to 1,2,3, and a 0 to anyone who never worries\n",
    "chis_df['housing_worry_dv']=chis_df['housing_worry'].map({1:1, 2:1, 3:1, 4:0})\n",
    "pd.crosstab(chis_df['housing_worry_dv'], columns='count')"
   ]
  },
  {
   "cell_type": "markdown",
   "metadata": {},
   "source": [
    "#### 2.2c Clean my X variable (poverty as category)"
   ]
  },
  {
   "cell_type": "code",
   "execution_count": null,
   "metadata": {},
   "outputs": [],
   "source": [
    "# Look at the distribution of values\n",
    "pd.crosstab(chis_df['pov_cat'], columns='Total')"
   ]
  },
  {
   "cell_type": "code",
   "execution_count": null,
   "metadata": {
    "scrolled": true
   },
   "outputs": [],
   "source": [
    "#Because I am most concerned about households living under the poverty line, \n",
    "#I'm going to create a dummy where 1 = under the poverty line, and 0 is above\n",
    "\n",
    "chis_df['inpoverty_dv']=chis_df['pov_cat'].map({1:1, 2:0, 3:0, 4:0})\n",
    "pd.crosstab(chis_df['inpoverty_dv'], columns='Total')"
   ]
  },
  {
   "cell_type": "markdown",
   "metadata": {},
   "source": [
    "#### 2.2c Clean my X variable (lost job due to COVID)"
   ]
  },
  {
   "cell_type": "code",
   "execution_count": null,
   "metadata": {},
   "outputs": [],
   "source": [
    "pd.crosstab(chis_df['covid_lostjob'], columns='count')"
   ]
  },
  {
   "cell_type": "code",
   "execution_count": null,
   "metadata": {},
   "outputs": [],
   "source": [
    "chis_df['lostjob_dv']=chis_df['covid_lostjob'].map({1:1, 2:0})\n",
    "pd.crosstab(chis_df['lostjob_dv'], columns='count')"
   ]
  },
  {
   "cell_type": "markdown",
   "metadata": {},
   "source": [
    "#### Sometimes, I want a categorical variable with text so I can quickly look at my data - here's one way to create a new categorical variable with the values replaced by text strings."
   ]
  },
  {
   "cell_type": "code",
   "execution_count": null,
   "metadata": {},
   "outputs": [],
   "source": [
    "#This code creates a new column with a categorical race variable based on the dummies\n",
    "#OMBSRR_P1: Race/ethnicity (1=Hispanic, 2= White NH, 3=Black NH, 4=AmIndian/Alaska Native NH, 5=Asian NH, 6=Other or two or more)\n",
    "chis_df.loc[(chis_df['race_ethnicity'] == 2), 'race_eth_text'] = 'NHWhite'  \n",
    "chis_df.loc[(chis_df['race_ethnicity']==5), 'race_eth_text'] = \"Asian\"\n",
    "chis_df.loc[(chis_df['race_ethnicity']==3), 'race_eth_text'] = \"Black\"\n",
    "chis_df.loc[(chis_df['race_ethnicity']==1), 'race_eth_text'] = \"Hispanic\"\n",
    "chis_df.loc[(chis_df['race_ethnicity']==4), 'race_eth_text'] = \"Other/Two Races\"\n",
    "chis_df.loc[(chis_df['race_ethnicity']==6), 'race_eth_text'] = \"Other/Two Races\"\n",
    "chis_df['race_eth_text'].value_counts()"
   ]
  },
  {
   "cell_type": "markdown",
   "metadata": {},
   "source": [
    "### 2.3  Exploring relationships\n",
    "\n",
    "Now that I've cleaned my data, I can start to explore whether or not there are relationships between my Y and X variables.  I'm going to explore whether there are any observable differences in the average number of veggies a person consumes by my poverty variables.  "
   ]
  },
  {
   "cell_type": "code",
   "execution_count": null,
   "metadata": {},
   "outputs": [],
   "source": [
    "#First, I'm going to look at my original pov_cat variable\n",
    "chis_df[\"ate_veg\"].groupby(chis_df[\"pov_cat\"]).mean()"
   ]
  },
  {
   "cell_type": "code",
   "execution_count": null,
   "metadata": {},
   "outputs": [],
   "source": [
    "#If I want to look at different metrics, like median, min or max, I can do that too\n",
    "chis_df[\"ate_veg\"].groupby(chis_df[\"pov_cat\"]).agg(['mean', 'median', 'min', 'max'])"
   ]
  },
  {
   "cell_type": "code",
   "execution_count": null,
   "metadata": {},
   "outputs": [],
   "source": [
    "#How about when I look at my newly created dummy variable:\n",
    "chis_df[\"ate_veg\"].groupby(chis_df[\"inpoverty_dv\"]).agg(['mean', 'median'])"
   ]
  },
  {
   "cell_type": "code",
   "execution_count": null,
   "metadata": {},
   "outputs": [],
   "source": [
    "#I can also explore by race/ethnicity - here's where the \"text\" version benefits me - \n",
    "#I don't have to remember what the number values stand for\n",
    "chis_df[\"ate_veg\"].groupby(chis_df[\"race_eth_text\"]).mean()"
   ]
  },
  {
   "cell_type": "code",
   "execution_count": null,
   "metadata": {
    "scrolled": true
   },
   "outputs": [],
   "source": [
    "#Here's another approach to exploring the relationship between two categorical variables.  \n",
    "#Take a minute to explore what the normalize code did.  What does it mean when you change it to index?  all?\n",
    "pd.crosstab(index=chis_df[\"race_eth_text\"], columns=chis_df[\"inpoverty_dv\"], margins=True, normalize='columns')\n"
   ]
  },
  {
   "cell_type": "code",
   "execution_count": null,
   "metadata": {},
   "outputs": [],
   "source": [
    "#let's look at whether there is any relationship between housing worry and COVID job loss\n",
    "pd.crosstab(index=chis_df[\"housing_worry_dv\"], columns=chis_df[\"lostjob_dv\"], margins=True, normalize='index')"
   ]
  },
  {
   "cell_type": "code",
   "execution_count": null,
   "metadata": {},
   "outputs": [],
   "source": [
    "pd.crosstab(index=chis_df[\"housing_worry_dv\"], columns=chis_df[\"lostjob_dv\"], margins=True, normalize='columns')"
   ]
  },
  {
   "cell_type": "markdown",
   "metadata": {},
   "source": [
    "## 4  Conclusion\n",
    "\n",
    "In lab today, use this notebook to start exploring your variables!"
   ]
  }
 ],
 "metadata": {
  "kernelspec": {
   "display_name": "Python 3 (ipykernel)",
   "language": "python",
   "name": "python3"
  },
  "language_info": {
   "codemirror_mode": {
    "name": "ipython",
    "version": 3
   },
   "file_extension": ".py",
   "mimetype": "text/x-python",
   "name": "python",
   "nbconvert_exporter": "python",
   "pygments_lexer": "ipython3",
   "version": "3.9.12"
  }
 },
 "nbformat": 4,
 "nbformat_minor": 4
}
