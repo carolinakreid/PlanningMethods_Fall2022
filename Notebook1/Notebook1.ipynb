{
 "cells": [
  {
   "cell_type": "markdown",
   "metadata": {},
   "source": [
    "##### 201A Lecture 10/25: Introduction to Jupyter Notebooks and Python\n",
    "\n",
    "## 1. An Introduction to the Environment\n",
    "\n",
    "The goal for lecture today is to play with a Jupyter Notebook and introduce elements that will help you get familiar with Python as an interactive computational environment for exploring data. The material is presented in an interactive environment that runs within your web browser. It allows presentation of text and graphics to be combined with Python code that can be run interactively. We are looking at a Jupyter notebook now. Note that Jupyter is a relatively recent name for this so sometimes you may still see it referred to as an IPython noteboook. Jupyter is just the new version of IPython notebooks, but now also supports a variety of other languages and tools.\n",
    "\n",
    "Let's start by getting familiar with the Jupyter Notebook and how it works.\n",
    "\n",
    "### 1.1 Launching a Jupyter Notebook on DataHub\n",
    "\n",
    "In this course we will be using hosted computing facilities to make it easy to start learning to code in Python and to leverage university computing infrastructure. In class we will use datahub, and you can use a Calnet login to connect it at http://datahub.berkeley.edu."
   ]
  },
  {
   "cell_type": "markdown",
   "metadata": {},
   "source": [
    "### 1.2 Using Jupyter Notebooks\n",
    "\n",
    "Once you launch the Jupyter Notebook, and the Notebook opens up in your browser, you will be looking at a directory of the folder you were in when you launched the notebook. you can either load an existing notebook if you see one in the directory, or create a new one. \n",
    "\n",
    "Your notebook can record all of your text and code edits, as well as any graphs you generate or calculations you make. You can save the notebook in its current state by clicking Control-S, clicking the floppy disc icon in the toolbar at the top of the page, or by going to the File menu and selecting \"Save and Checkpoint\".\n",
    "\n",
    "The next time you open the notebook, it will look the same as when you last saved it.\n",
    "\n",
    "The Jupyter Notebook is made up of cells. We run a cell by hitting Shift-Enter."
   ]
  },
  {
   "cell_type": "code",
   "execution_count": null,
   "metadata": {},
   "outputs": [],
   "source": [
    "#run this cell\n",
    "print(\"I'm excited we're starting to learn Python\")"
   ]
  },
  {
   "cell_type": "markdown",
   "metadata": {},
   "source": [
    "### 1.3 Markdown Cells\n",
    "\n",
    "Some cells are known as ***markdown cells***, which contain html text that you can use to share your analysis with others, as well as keep notes on what the different lines of code do. (Like this cell!) You can edit the contents of a cell by double-clicking on it.\n",
    "\n",
    "Try it on this cell. When you are ready to save a markdown cell, just use Shift-Enter.\n",
    "\n",
    "You can use Markdown syntax to format your text. Documentation on the markdown syntax is available here: https://www.markdownguide.org/basic-syntax/ \n",
    "\n",
    "### Hashtags  are for headings\n",
    "**Two stars** makes text bold and ***three stars*** make the text bold and italic.  Take a minute and create a new markdown cell with some formatted text.  Write yourself an affirming note that you can do this!"
   ]
  },
  {
   "cell_type": "markdown",
   "metadata": {},
   "source": [
    "### 1.4 Code Cells\n",
    "\n",
    "In addition to markdown cells, Jupyter has ***code cells***, which contain programming code.  It's in these cells that the magic happens!  Try it - put your curser in the cell below, and hit \"Ctrl-Enter\" to run the code cell.\n"
   ]
  },
  {
   "cell_type": "code",
   "execution_count": null,
   "metadata": {},
   "outputs": [],
   "source": [
    "import math\n",
    " # The following code returns the square root of the number in the paranthesis\n",
    "math.sqrt(144)"
   ]
  },
  {
   "cell_type": "markdown",
   "metadata": {},
   "source": [
    "That was cool!!!  Try changing the 144 to a different number, and run the cell again."
   ]
  },
  {
   "cell_type": "markdown",
   "metadata": {},
   "source": [
    "You can also add comments in your code cells using the hastag.\n",
    "\n",
    "    # The following code returns the square root of the number in the paranthesis\n",
    "    \n",
    "This is called a *comment*. It doesn't make anything happen in Python; Python ignores anything on a line after a `#`.  Instead, it's there to communicate something about the code to you, the human reader. Comments are extremely useful. "
   ]
  },
  {
   "cell_type": "markdown",
   "metadata": {},
   "source": [
    "### 1.5 Learning the Python Language\n",
    "\n",
    "Python is a language, and like natural human languages, it takes time to learn.  There is vocabulary, or \"syntax,\" as well as rules for how that syntax is presented.  Both of these just take practice, practice, practice.  We will teach you the rules, but you need to practice on your own. \n",
    "\n",
    "However, programming languages differ from natural language in one important way:\n",
    "\n",
    "> The rules are rigid. If you're proficient in a natural language, you can understand a non-proficient speaker, glossing over small mistakes. A computer running Python code is not smart enough to do that.\n",
    "\n",
    "Whenever you write code, you'll make mistakes. Errors are okay; even experienced programmers make many errors. When you make an error, you just have to find the source of the problem, fix it, and move on. Fixing it can take a long time.  A long long time."
   ]
  },
  {
   "cell_type": "code",
   "execution_count": null,
   "metadata": {},
   "outputs": [],
   "source": [
    "print(\"This line is missing something.\""
   ]
  },
  {
   "cell_type": "markdown",
   "metadata": {},
   "source": [
    "The last line of the error output attempts to tell you what went wrong.  The *syntax* of a language is its structure, and this `SyntaxError` tells you that you have created an illegal structure.  \"`EOF`\" means \"end of file,\" so the message is saying Python expected you to write something more (in this case, a right parenthesis) before finishing the cell.\n",
    "\n",
    "There's a lot of terminology in programming languages, but you don't need to know it all in order to program effectively. If you can't figure it out intuitively, Google is your best friend!\n",
    "\n",
    "Try to fix the code above so that you can run the cell and see the intended message instead of an error."
   ]
  },
  {
   "cell_type": "markdown",
   "metadata": {},
   "source": [
    "## 2. Example of the Power of Programming\n",
    "\n",
    "In lab on Thursday, we're going to work with Python to build the foundation of our programming skills using the CHIS data.  But let's do an exercise to show how the knowledge from our past two modules on ACS and mapping come together in this third module.  We're going to see whether a neighborhood's redlining grade correlates with contemporary conditions in a census tract and data from the ACS.\n",
    "\n",
    "First, we need to download some \"libraries\" - we'll learn more about libraries in the coming weeks.  For now, just run the code below."
   ]
  },
  {
   "cell_type": "code",
   "execution_count": null,
   "metadata": {},
   "outputs": [],
   "source": [
    "#Importing Utilities\n",
    "#These are all pre-written Python packages that we will be using to read in, clean, analyze, and model our data.\n",
    "import os\n",
    "import re\n",
    "import folium\n",
    "import math\n",
    "import geopandas as gpd\n",
    "import json\n",
    "import matplotlib as mpl\n",
    "import pylab as plt\n",
    "import pandas as pd\n",
    "import numpy as np\n",
    "import seaborn as sns\n",
    "import matplotlib.pyplot as plt\n",
    "import ipywidgets as widgets\n",
    "import geopandas as gpd\n",
    "from IPython.display import IFrame\n",
    "plt.style.use('fivethirtyeight')\n",
    "# import ipywidgets as widgets\n",
    "%matplotlib inline\n",
    "pd.options.display.float_format = '{:.2f}'.format"
   ]
  },
  {
   "cell_type": "markdown",
   "metadata": {},
   "source": [
    "### 2.1 Redlining Map for Oakland\n",
    "\n",
    "Let's first bring in a redlining map for Oakland.  Python easily reads shapefiles and geojson files. \n"
   ]
  },
  {
   "cell_type": "code",
   "execution_count": null,
   "metadata": {},
   "outputs": [],
   "source": [
    "#This cell imports the map file for Oakland\n",
    "\n",
    "geo_json_data = json.load(open('CAOakland1937.geojson'))"
   ]
  },
  {
   "cell_type": "code",
   "execution_count": null,
   "metadata": {},
   "outputs": [],
   "source": [
    "# This cell assigns each of the HOLC grades a color\n",
    "\n",
    "def my_color_function(feature):\n",
    "    if feature['properties']['holc_grade']== 'A':\n",
    "        return '#98ff98'\n",
    "    elif feature['properties']['holc_grade']== 'B':\n",
    "        return '#5bc0de'\n",
    "    elif feature['properties']['holc_grade'] =='C':\n",
    "        return '#ffe200'\n",
    "    else:\n",
    "        return '#ff00aa'"
   ]
  },
  {
   "cell_type": "code",
   "execution_count": null,
   "metadata": {},
   "outputs": [],
   "source": [
    "#  This cell draws the map, including the coordinates for Oakland\n",
    "m = folium.Map([37.8044,-122.271], tiles='cartodbpositron', zoom_start=12)\n",
    "folium.GeoJson(\n",
    "    geo_json_data,\n",
    "        style_function=lambda feature: {\n",
    "        'fillColor': my_color_function(feature),\n",
    "        'color' : 'black',\n",
    "        'weight' : 1,   \n",
    "        }\n",
    "    ).add_to(m)\n",
    "m"
   ]
  },
  {
   "cell_type": "markdown",
   "metadata": {},
   "source": [
    "### 2.2 Comparing Redlining Scores with Conditions Today\n",
    "\n",
    "Let's explore how redlining still affects neighborhoods today.\n",
    "\n",
    "Each of the HOLC grades has been given a number. Neighborhoods assigned a value of 1 were considered \"safe\" to lend in and were indicated in green on the map. Neighborhoods assigned a value of 2 were also considered \"safe\", were indicated in blue, and borrowers there could get FHA loans. Neighborhoods assigned a value of 3 (yellow) could still get loans, but the appraisers were indicating that they were concerned that the neighborhood was declining. Neighborhoods assigned a value of 4 (red) were considered \"hazardous\" and the federal government refused to guarantee mortgages in those areas.\n"
   ]
  },
  {
   "cell_type": "code",
   "execution_count": null,
   "metadata": {},
   "outputs": [],
   "source": [
    "#  First, we're going to read in data that Carolina pulled from the Census and American Community Survey\n",
    "!pip install xlrd\n",
    "df_2017 = pd.read_excel('Oakland_1990_2017_Data.xlsx', dtype={\"Census Tract\":str})"
   ]
  },
  {
   "cell_type": "code",
   "execution_count": null,
   "metadata": {},
   "outputs": [],
   "source": [
    "# Let's take a look at the data\n",
    "df_2017.head()"
   ]
  },
  {
   "cell_type": "markdown",
   "metadata": {},
   "source": [
    "### 2.3 Correlation\n",
    "\n",
    "So even looking at 5 census tracts, we can see that there is a relationship between a higher (worse) redlining score and the poverty rate, even 60 years later.  But maybe this was just a coincidence.  We are going to calculate a \"correlation\" statistic for all the census tracts in Oakland that will let us compare the relationships more scientifically.\n",
    "\n",
    "Simply, a correlation statistic tells us the direction and strength of the relationship between two variables.  We're going to create a \"widget\" that lets us easily compare the redlining grade with different census tract characteristics in 1990 and 2017.  \n",
    "\n",
    "Go ahead and run the next two cells."
   ]
  },
  {
   "cell_type": "code",
   "execution_count": null,
   "metadata": {},
   "outputs": [],
   "source": [
    "# widget imports \n",
    "# import the widgets module\n",
    "import ipywidgets as widgets\n",
    "from ipywidgets import interact, interactive, fixed, interact_manual\n",
    "from IPython.display import display"
   ]
  },
  {
   "cell_type": "code",
   "execution_count": null,
   "metadata": {},
   "outputs": [],
   "source": [
    "def f(a, b):\n",
    "    # Polynomial best fit line.\n",
    "    df_2017_fit = np.polyfit(df_2017[a],df_2017[b],1)\n",
    "\n",
    "    # Scatter plots.\n",
    "    ax1= df_2017.plot(kind='scatter', x=a,y=b, color='blue',alpha=0.5, figsize=(12,6))\n",
    "\n",
    "    # Regression lines.\n",
    "    plt.plot(df_2017[a],df_2017_fit[0]*df_2017[a]+df_2017_fit[1], color='darkblue', linewidth=2)\n",
    "\n",
    "    # Regression equations.\n",
    "    x_text = max(df_2017[a])\n",
    "    y_text = min(df_2017[b])\n",
    "    plt.text(x_text,y_text,'y={:.2f}+{:.2f}*x'.format(df_2017_fit[1],df_2017_fit[0]),color='darkgreen',size=12, horizontalalignment='right',\n",
    "         verticalalignment='top')\n",
    "\n",
    "    # Legend, title and labels.\n",
    "    plt.legend(labels=['DF_2017'+'Regression Line','DF_2017'])\n",
    "    plt.title('Relationship between '+ a + ' and ' + b, size=18)\n",
    "    plt.xlabel(a, size=12)\n",
    "    plt.ylabel(b, size=12);\n",
    "    corr = df_2017.corr()[a][b]\n",
    "    print('Correlation: ',corr)\n",
    "    \n",
    "display(widgets.interactive(f, a=df_2017.columns.tolist(),b=df_2017.columns.tolist()))"
   ]
  },
  {
   "cell_type": "markdown",
   "metadata": {},
   "source": [
    "###  2.4 Comparing the Redlining Grade with the Poverty Rate in 2017\n",
    "\n",
    "Put \"Redlining Grade\" in the a box and \"Poverty Rate 2017\" in the b box.  How can we interpret the results?  The correlation is a positive .40909, and the line slopes upwards.  This shows that as a census tract's redlining grade gets worse (with 4 being \"redlined\"), the poverty rate goes up.  A correlation coefficient of .4 is considered a \"strong\" correlation (anything above a .3 is meaningful).\n",
    "\n",
    "How about \"Redlining Grade\" correlated with the Percent BA Degree or Higher in 2017.  This time we get a negative correlation coefficient - -0.4173.  This means that there is a negative relationship between a tract's redlining grade and the percent of the population that has a BA - in other words, tracts that were redlined have fewer residents who have completed their BA degree."
   ]
  },
  {
   "cell_type": "markdown",
   "metadata": {},
   "source": [
    "### 2.5 Map the Indicators\n",
    "\n",
    "Now that we're in Python, it becomes pretty easy to make maps of Oakland using the indicators in our dataset.  Feel free to make some maps of the indicators you explored above!\n",
    "\n",
    "#### Gentrification\n",
    "\n",
    "The dataset also includes a numeric \"risk\" score for gentrification, based on the gentrification maps produced by the Urban Displacement Project.  A higher number means the neighborhood is at higher risk of gentrification. "
   ]
  },
  {
   "cell_type": "code",
   "execution_count": null,
   "metadata": {},
   "outputs": [],
   "source": [
    "#  Just run this cell\n",
    "\n",
    "tracts_gdf = gpd.read_file('Oakland_Tracts.shp')\n",
    "merged_gdf=tracts_gdf.set_index(\"GEOID_2\").join(df_2017.set_index(\"Census Tract\"))"
   ]
  },
  {
   "cell_type": "code",
   "execution_count": null,
   "metadata": {},
   "outputs": [],
   "source": [
    "# Run this to get a list of variables in the data\n",
    "df_2017.columns"
   ]
  },
  {
   "cell_type": "code",
   "execution_count": null,
   "metadata": {},
   "outputs": [],
   "source": [
    "# This cell draws the map - just change the text in red after \"column=\" and what you want the title to be to change the indicator being mapped\n",
    "\n",
    "figure, ax = plt.subplots(figsize=(14,10))\n",
    "ax = merged_gdf.plot(column=\"Poverty Rate 2017\", legend=True, ax=ax, cmap=\"Blues\")\n",
    "lims=plt.axis(\"equal\") \n",
    "ax.set_axis_off()\n",
    "ax.set_title('Poverty Rate 2017', fontdict= \n",
    "            {'fontsize':25})\n",
    "plt.show()"
   ]
  },
  {
   "cell_type": "markdown",
   "metadata": {},
   "source": [
    "## Fascinating, right?  And super powerful when we put it to use for planning questions."
   ]
  },
  {
   "cell_type": "markdown",
   "metadata": {},
   "source": [
    "### 3.0  Resetting the Python Notebook\n",
    "\n",
    "If you want to run through the notebook again on your own, just click on the link in bCourses, and then when you start the session, select \"Kernel\" from the menu above, and then select \"Restart & Clear Output\".  This will give you a \"refreshed\" version of the notebook.  Just don't forget that you need to run the cells in order that they're presented in the notebook!"
   ]
  }
 ],
 "metadata": {
  "kernelspec": {
   "display_name": "Python 3 (ipykernel)",
   "language": "python",
   "name": "python3"
  },
  "language_info": {
   "codemirror_mode": {
    "name": "ipython",
    "version": 3
   },
   "file_extension": ".py",
   "mimetype": "text/x-python",
   "name": "python",
   "nbconvert_exporter": "python",
   "pygments_lexer": "ipython3",
   "version": "3.9.12"
  }
 },
 "nbformat": 4,
 "nbformat_minor": 2
}
