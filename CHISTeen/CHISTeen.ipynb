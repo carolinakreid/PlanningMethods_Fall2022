{
 "cells": [
  {
   "cell_type": "markdown",
   "metadata": {},
   "source": [
    "# Notebook 3: Reclassifying Variables\n",
    "\n",
    "In Notebook 2, we learned how to import a .csv file, rename our variables, \"slice\" our dataframe using [[]], and examine the distribution of numeric variables using the .describe() and seaborn plotting functions.  We also learned how to use pd.crosstab to explore categorical variables.\n",
    "\n",
    "In today's lecture, we're going to focus on\n",
    "\n",
    "> Turning our categorical variables into dummies\n",
    "\n",
    "> Cleaning up numeric variables\n",
    "\n",
    "As with everything in Python, there are lots of different ways to do the same thing, so we're providing some basic code so you have what you need for Assignment 4.  But you may find that when you work with your own data, you'll need to explore the web for other code."
   ]
  },
  {
   "cell_type": "markdown",
   "metadata": {},
   "source": [
    "## 1.0 Reading in our libraries, our dataset, and renaming our variables\n",
    "\n",
    "The next few cells get us back to where we left off last week.  Remember, you need to run all the cells in order - libraries, read data, and rename data, otherwise Python will give you an error message!"
   ]
  },
  {
   "cell_type": "code",
   "execution_count": 1,
   "metadata": {},
   "outputs": [],
   "source": [
    "# First, We're going to call in our libraries\n",
    "# from datascience import *\n",
    "\n",
    "import numpy as np\n",
    "import pandas as pd\n",
    "import math\n",
    "from scipy import stats\n",
    "import seaborn as sns\n",
    "import matplotlib as plt\n",
    "\n",
    "\n",
    "pd.options.display.float_format = '{:.2f}'.format"
   ]
  },
  {
   "cell_type": "code",
   "execution_count": 2,
   "metadata": {},
   "outputs": [],
   "source": [
    "#Show our plots in the Jupyter notebook\n",
    "%matplotlib inline"
   ]
  },
  {
   "cell_type": "code",
   "execution_count": 3,
   "metadata": {},
   "outputs": [],
   "source": [
    "#When we start working with nan (missing) values, we can get RuntimeWarning errors - we're going to ignore them here\n",
    "import warnings\n",
    "warnings.filterwarnings(\"ignore\", category=RuntimeWarning) \n",
    "pd.options.mode.chained_assignment = None  # default='warn'"
   ]
  },
  {
   "cell_type": "code",
   "execution_count": 4,
   "metadata": {},
   "outputs": [
    {
     "data": {
      "text/html": [
       "<div>\n",
       "<style scoped>\n",
       "    .dataframe tbody tr th:only-of-type {\n",
       "        vertical-align: middle;\n",
       "    }\n",
       "\n",
       "    .dataframe tbody tr th {\n",
       "        vertical-align: top;\n",
       "    }\n",
       "\n",
       "    .dataframe thead th {\n",
       "        text-align: right;\n",
       "    }\n",
       "</style>\n",
       "<table border=\"1\" class=\"dataframe\">\n",
       "  <thead>\n",
       "    <tr style=\"text-align: right;\">\n",
       "      <th></th>\n",
       "      <th>TF3</th>\n",
       "      <th>TL25</th>\n",
       "      <th>TL28</th>\n",
       "      <th>TQ15</th>\n",
       "      <th>SRSEX</th>\n",
       "      <th>ACE_T</th>\n",
       "      <th>DOCT_YR</th>\n",
       "      <th>SOCHESS3</th>\n",
       "      <th>OMBSRTN_P1</th>\n",
       "      <th>RACEDFT_P1</th>\n",
       "      <th>TB1_P1</th>\n",
       "    </tr>\n",
       "  </thead>\n",
       "  <tbody>\n",
       "    <tr>\n",
       "      <th>0</th>\n",
       "      <td>2</td>\n",
       "      <td>2</td>\n",
       "      <td>2</td>\n",
       "      <td>1</td>\n",
       "      <td>1</td>\n",
       "      <td>2</td>\n",
       "      <td>1</td>\n",
       "      <td>11</td>\n",
       "      <td>5</td>\n",
       "      <td>4</td>\n",
       "      <td>2</td>\n",
       "    </tr>\n",
       "    <tr>\n",
       "      <th>1</th>\n",
       "      <td>1</td>\n",
       "      <td>2</td>\n",
       "      <td>2</td>\n",
       "      <td>2</td>\n",
       "      <td>1</td>\n",
       "      <td>2</td>\n",
       "      <td>1</td>\n",
       "      <td>9</td>\n",
       "      <td>2</td>\n",
       "      <td>6</td>\n",
       "      <td>3</td>\n",
       "    </tr>\n",
       "    <tr>\n",
       "      <th>2</th>\n",
       "      <td>2</td>\n",
       "      <td>2</td>\n",
       "      <td>2</td>\n",
       "      <td>1</td>\n",
       "      <td>1</td>\n",
       "      <td>2</td>\n",
       "      <td>1</td>\n",
       "      <td>9</td>\n",
       "      <td>2</td>\n",
       "      <td>6</td>\n",
       "      <td>1</td>\n",
       "    </tr>\n",
       "    <tr>\n",
       "      <th>3</th>\n",
       "      <td>2</td>\n",
       "      <td>3</td>\n",
       "      <td>3</td>\n",
       "      <td>2</td>\n",
       "      <td>1</td>\n",
       "      <td>2</td>\n",
       "      <td>1</td>\n",
       "      <td>9</td>\n",
       "      <td>7</td>\n",
       "      <td>8</td>\n",
       "      <td>4</td>\n",
       "    </tr>\n",
       "    <tr>\n",
       "      <th>4</th>\n",
       "      <td>2</td>\n",
       "      <td>1</td>\n",
       "      <td>3</td>\n",
       "      <td>3</td>\n",
       "      <td>1</td>\n",
       "      <td>2</td>\n",
       "      <td>1</td>\n",
       "      <td>5</td>\n",
       "      <td>2</td>\n",
       "      <td>6</td>\n",
       "      <td>3</td>\n",
       "    </tr>\n",
       "    <tr>\n",
       "      <th>...</th>\n",
       "      <td>...</td>\n",
       "      <td>...</td>\n",
       "      <td>...</td>\n",
       "      <td>...</td>\n",
       "      <td>...</td>\n",
       "      <td>...</td>\n",
       "      <td>...</td>\n",
       "      <td>...</td>\n",
       "      <td>...</td>\n",
       "      <td>...</td>\n",
       "      <td>...</td>\n",
       "    </tr>\n",
       "    <tr>\n",
       "      <th>1164</th>\n",
       "      <td>2</td>\n",
       "      <td>2</td>\n",
       "      <td>3</td>\n",
       "      <td>1</td>\n",
       "      <td>1</td>\n",
       "      <td>1</td>\n",
       "      <td>1</td>\n",
       "      <td>9</td>\n",
       "      <td>1</td>\n",
       "      <td>1</td>\n",
       "      <td>4</td>\n",
       "    </tr>\n",
       "    <tr>\n",
       "      <th>1165</th>\n",
       "      <td>2</td>\n",
       "      <td>2</td>\n",
       "      <td>2</td>\n",
       "      <td>2</td>\n",
       "      <td>2</td>\n",
       "      <td>1</td>\n",
       "      <td>1</td>\n",
       "      <td>8</td>\n",
       "      <td>1</td>\n",
       "      <td>1</td>\n",
       "      <td>2</td>\n",
       "    </tr>\n",
       "    <tr>\n",
       "      <th>1166</th>\n",
       "      <td>2</td>\n",
       "      <td>3</td>\n",
       "      <td>2</td>\n",
       "      <td>2</td>\n",
       "      <td>1</td>\n",
       "      <td>2</td>\n",
       "      <td>1</td>\n",
       "      <td>9</td>\n",
       "      <td>1</td>\n",
       "      <td>1</td>\n",
       "      <td>2</td>\n",
       "    </tr>\n",
       "    <tr>\n",
       "      <th>1167</th>\n",
       "      <td>1</td>\n",
       "      <td>1</td>\n",
       "      <td>3</td>\n",
       "      <td>4</td>\n",
       "      <td>2</td>\n",
       "      <td>2</td>\n",
       "      <td>2</td>\n",
       "      <td>8</td>\n",
       "      <td>1</td>\n",
       "      <td>1</td>\n",
       "      <td>2</td>\n",
       "    </tr>\n",
       "    <tr>\n",
       "      <th>1168</th>\n",
       "      <td>1</td>\n",
       "      <td>2</td>\n",
       "      <td>3</td>\n",
       "      <td>2</td>\n",
       "      <td>2</td>\n",
       "      <td>1</td>\n",
       "      <td>1</td>\n",
       "      <td>9</td>\n",
       "      <td>1</td>\n",
       "      <td>1</td>\n",
       "      <td>2</td>\n",
       "    </tr>\n",
       "  </tbody>\n",
       "</table>\n",
       "<p>1169 rows × 11 columns</p>\n",
       "</div>"
      ],
      "text/plain": [
       "      TF3  TL25  TL28  TQ15  SRSEX  ACE_T  DOCT_YR  SOCHESS3  OMBSRTN_P1  \\\n",
       "0       2     2     2     1      1      2        1        11           5   \n",
       "1       1     2     2     2      1      2        1         9           2   \n",
       "2       2     2     2     1      1      2        1         9           2   \n",
       "3       2     3     3     2      1      2        1         9           7   \n",
       "4       2     1     3     3      1      2        1         5           2   \n",
       "...   ...   ...   ...   ...    ...    ...      ...       ...         ...   \n",
       "1164    2     2     3     1      1      1        1         9           1   \n",
       "1165    2     2     2     2      2      1        1         8           1   \n",
       "1166    2     3     2     2      1      2        1         9           1   \n",
       "1167    1     1     3     4      2      2        2         8           1   \n",
       "1168    1     2     3     2      2      1        1         9           1   \n",
       "\n",
       "      RACEDFT_P1  TB1_P1  \n",
       "0              4       2  \n",
       "1              6       3  \n",
       "2              6       1  \n",
       "3              8       4  \n",
       "4              6       3  \n",
       "...          ...     ...  \n",
       "1164           1       4  \n",
       "1165           1       2  \n",
       "1166           1       2  \n",
       "1167           1       2  \n",
       "1168           1       2  \n",
       "\n",
       "[1169 rows x 11 columns]"
      ]
     },
     "execution_count": 4,
     "metadata": {},
     "output_type": "execute_result"
    }
   ],
   "source": [
    "#Now we're going to read in our data and create a new dataframe\n",
    "\n",
    "chis_df = pd.read_csv('chis_teen_extract.csv')\n",
    "chis_df"
   ]
  },
  {
   "cell_type": "markdown",
   "metadata": {},
   "source": [
    "### From here on out, you will need to change the data to reflect your variables"
   ]
  },
  {
   "cell_type": "code",
   "execution_count": null,
   "metadata": {},
   "outputs": [],
   "source": [
    "chis_df.rename(columns={\"AE_VEGI\":\"ate_veg\",\n",
    "                        \"SRSEX\": \"sex\",\n",
    "                        \"OMBSRR_P1\": \"race_ethnicity\",\n",
    "                        \"POVLL\" : \"pov_cat\",\n",
    "                       \"AK22_P1\" : \"hh_inc\",\n",
    "                       \"AM184\": \"housing_worry\"}, inplace=True)"
   ]
  },
  {
   "cell_type": "markdown",
   "metadata": {},
   "source": [
    "### Codebook\n",
    "\n",
    "\n",
    "PUT IN YOUR OWN CODEBOOK HERE"
   ]
  },
  {
   "cell_type": "markdown",
   "metadata": {},
   "source": [
    "##  2.0  Recoding and Cleaning Variables\n",
    "\n",
    "### 2.1 Recoding Nominal Binary Variables into Dummies\n",
    "\n",
    "We  often have to work with \"nominal\" variables (those with a \"Name\").  Note that in the CHIS data, the variables that are nominal (e.g. sex, race/ethnicity) are actually assigned number values rather than strings.   \n",
    "\n",
    "Let's start with the \"sex\" variable.  It has two possible values, \"Male\" and \"Female\".  This is known as a binary or dichotomous variable.  But, even though they are represented by the numbers 1 and 2, we can't treat them as numbers - e.g., adding 2 males together doesn't give us a female.\n",
    "\n",
    "    SRSEX: Self-reported Sex (1= Male, 2=Female)\n",
    "    \n",
    "We need to change this into a ***dummy*** variable. A dummy variable always only takes two values - a 0 and a 1 - and in general, we give a \"1\" to the variable when the condition we're interested in exploring is met. "
   ]
  },
  {
   "cell_type": "code",
   "execution_count": null,
   "metadata": {},
   "outputs": [],
   "source": [
    "#Let's look at the data\n",
    "pd.crosstab(chis_df['sex'], columns='Total')"
   ]
  },
  {
   "cell_type": "code",
   "execution_count": null,
   "metadata": {},
   "outputs": [],
   "source": [
    "#Now I'm going to create a dummy; I like naming my dummy variable so I don't get confused as to what is coded a 1 and what is coded a 0\n",
    "chis_df['female_dv']=chis_df_small['sex'].map({1:0, 2:1})\n",
    "pd.crosstab(chis_df['female_dv'], columns='count')"
   ]
  },
  {
   "cell_type": "markdown",
   "metadata": {},
   "source": [
    "### 2.3  Recoding Categorical Variables\n",
    "\n",
    "A more complicated type of \"nominal\" variable is one where we have more than 2 categories - we find these all the time in planning surveys!  (And most are ordinal, meaning that the numbers assigned move either up or down in some logical way.)\n",
    "\n",
    "    AM184: How Often Worry about Paying Rent/Mortgage\n",
    "    (1=Very often, 2=Somewhat Often, 3=From Time to Time, 4=Almost Never)\n",
    "    \n",
    "We renamed the variable to **housing_worry**"
   ]
  },
  {
   "cell_type": "code",
   "execution_count": null,
   "metadata": {},
   "outputs": [],
   "source": [
    "#let's look at our data and be intentional\n",
    "pd.crosstab(chis_df['housing_worry'], columns='count')"
   ]
  },
  {
   "cell_type": "code",
   "execution_count": null,
   "metadata": {},
   "outputs": [],
   "source": [
    "# I decide I want to group together anyone that expresses concern, \n",
    "#so I'm going to assign a 1 to 1,2,3, and a 0 to anyone who never worries\n",
    "chis_df['housing_worry_dv']=chis_df_small['housing_worry'].map({1:1, 2:1, 3:1, 4:0})\n",
    "pd.crosstab(chis_df['housing_worry_dv'], columns='count')"
   ]
  },
  {
   "cell_type": "markdown",
   "metadata": {},
   "source": [
    "## 3.0 Reclassifying Numeric Variables\n",
    "\n",
    "While we don't always need to recode numeric variables, sometimes we need to address outliers and/or we want to make our numeric data more meaningful.  For example, with our \"ate_veg\" variable, we know we need to address the outlier, and we could \"smooth\" out the fact that folks like to respond using weekly numbers"
   ]
  },
  {
   "cell_type": "markdown",
   "metadata": {},
   "source": [
    "### 3.1 Dropping extreme values or outliers\n",
    "\n",
    "Sometimes, you just need to drop some rows with specific values, or, remove all outliers in the dataset.  Let's take a look at it with the age_veg variable from last week."
   ]
  },
  {
   "cell_type": "code",
   "execution_count": null,
   "metadata": {},
   "outputs": [],
   "source": [
    "chis_df['ate_veg'].describe()"
   ]
  },
  {
   "cell_type": "code",
   "execution_count": null,
   "metadata": {},
   "outputs": [],
   "source": [
    "#Dropping outliers; this is easiest way - I like renaming my dataframe just in case the code \n",
    "#does something I don't want it to\n",
    "#I am going to make the decision that anyone who says they ate more than 10 vegetables per day per week (70) is an outlier\n",
    "chis_df = chis_df[chis_df['ate_veg'] < 71] \n",
    "chis_df['ate_veg'].describe()"
   ]
  },
  {
   "cell_type": "code",
   "execution_count": null,
   "metadata": {},
   "outputs": [],
   "source": [
    "#How is the resulting dataframe different from the original?\n",
    "chis_df.describe()"
   ]
  },
  {
   "cell_type": "markdown",
   "metadata": {},
   "source": [
    "### 3.2  Reclassifying a numeric variable\n",
    "\n",
    "What if I want to actually turn this into a series of dummies, based on number of times per week?"
   ]
  },
  {
   "cell_type": "code",
   "execution_count": null,
   "metadata": {},
   "outputs": [],
   "source": [
    "# create DV for different levels of veggie consumption\n",
    "chis_df['no_veg_dv']=np.where((chis_df['ate_veg']==0),1,0)\n",
    "chis_df['one_to_three_veg_dv']=np.where(((chis_df['ate_veg']>=0) & \n",
    "                                    (chis_df['ate_veg']<4)),1,0)\n",
    "chis_df['morethan_four_veg_dv']=np.where((chis_df['ate_veg']>=4),1,0)"
   ]
  },
  {
   "cell_type": "code",
   "execution_count": null,
   "metadata": {},
   "outputs": [],
   "source": [
    "chis_df"
   ]
  },
  {
   "cell_type": "markdown",
   "metadata": {},
   "source": [
    "## 4.0  That's it for now!\n",
    "\n",
    "By lab next week Thursday, you should have selected your dataset, and 5-6 variables you plan to explore, including 1 outcome variable. Explore, clean and reclassify each variable, and come with questions!"
   ]
  }
 ],
 "metadata": {
  "kernelspec": {
   "display_name": "Python 3 (ipykernel)",
   "language": "python",
   "name": "python3"
  },
  "language_info": {
   "codemirror_mode": {
    "name": "ipython",
    "version": 3
   },
   "file_extension": ".py",
   "mimetype": "text/x-python",
   "name": "python",
   "nbconvert_exporter": "python",
   "pygments_lexer": "ipython3",
   "version": "3.9.12"
  }
 },
 "nbformat": 4,
 "nbformat_minor": 4
}
